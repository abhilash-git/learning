{
  "nbformat": 4,
  "nbformat_minor": 0,
  "metadata": {
    "colab": {
      "name": "amortization.ipynb",
      "provenance": [],
      "collapsed_sections": [],
      "authorship_tag": "ABX9TyORnddOXzmYGJ5Cltz4fLgB",
      "include_colab_link": true
    },
    "kernelspec": {
      "name": "python3",
      "display_name": "Python 3"
    }
  },
  "cells": [
    {
      "cell_type": "markdown",
      "metadata": {
        "id": "view-in-github",
        "colab_type": "text"
      },
      "source": [
        "<a href=\"https://colab.research.google.com/github/abhilash-git/learning/blob/main/amortization.ipynb\" target=\"_parent\"><img src=\"https://colab.research.google.com/assets/colab-badge.svg\" alt=\"Open In Colab\"/></a>"
      ]
    },
    {
      "cell_type": "code",
      "metadata": {
        "id": "0KuOviMnXPFN"
      },
      "source": [
        "from datetime import datetime,date,timedelta\n",
        "import calendar\n",
        "def getMonthwithIndex(index=0,date_in=datetime.now(),backward=False):\n",
        "    days_in_month=0\n",
        "    date_in = date_in.replace(day=1)\n",
        "    for i in range(index):\n",
        "      days_in_month = calendar.monthrange(date_in.year, date_in.month)[1]\n",
        "      if backward:\n",
        "        date_in=date_in - timedelta(days=days_in_month)\n",
        "      else:\n",
        "        date_in = date_in + timedelta(days=days_in_month)\n",
        "    return date_in\n",
        "    "
      ],
      "execution_count": 1,
      "outputs": []
    },
    {
      "cell_type": "code",
      "metadata": {
        "id": "xD6dXMgrB1iW",
        "colab": {
          "base_uri": "https://localhost:8080/"
        },
        "outputId": "872fa462-94ec-4b8f-b0ec-62c746f2561b"
      },
      "source": [
        "!pip install numpy-financial\n",
        "import numpy_financial as npf\n",
        "import pandas as pd\n",
        "import matplotlib.pyplot as plt\n",
        "pd.options.display.float_format = '{:.5f}'.format\n",
        "pd.set_option('display.float_format', lambda x: '%.5f' % x)\n",
        "\n",
        "class Loan:\n",
        "  def __init__(self, principle_amount, interest_in_year, period_in_years,starting_date=datetime.now()):\n",
        "    self.starting_date = starting_date\n",
        "    self.principle_amount = principle_amount\n",
        "    self.interest_in_year = interest_in_year\n",
        "    self.period_in_years = period_in_years\n",
        "    self.column_names = [\"MONTH\", \"STARTING_AMOUNT\", \"EMI_AMOUNT\", \"INTEREST_PAID\", \"PRINCIPLE_PAID\", \"LEFTOVER_PRINCIPLE\"]\n",
        "    self.df = pd.DataFrame(columns = self.column_names)\n",
        "    self.orginal_df = pd.DataFrame(columns = self.column_names)\n",
        "    self.emi_amount = npf.pmt((interest_in_year/100)/12, period_in_years*12, -principle_amount,0)\n",
        "    self.Principle_paid=0\n",
        "    self.Interest_paid=0\n",
        "    self.advancePayments=[]\n",
        "\n",
        "  def getPrincipleAmount(self):\n",
        "      return self.principle_amount\n",
        "\n",
        "  def setPrincipleAmount(self,amt):\n",
        "    self.principle_amount = amt;\n",
        "\n",
        "  def getDataFrame(self):\n",
        "    return self.df\n",
        "\n",
        "  def populateDateFrame(self):\n",
        "    temp_emi = self.emi_amount\n",
        "    period_in_months = int(round(self.period_in_years*12))\n",
        "    print(\"called {}\".format(period_in_months))\n",
        "    for i in range(0,period_in_months):\n",
        "      temp_list_one_row=[]\n",
        "      # print(i)\n",
        "      if self.getPrincipleAmount() < 1:\n",
        "        print(\"Break\")\n",
        "        break;\n",
        "      temp_list_one_row.append(getMonthwithIndex(i+1,self.starting_date).date())\n",
        "      temp_list_one_row.append(self.getPrincipleAmount())\n",
        "      self.Interest_paid=(self.getPrincipleAmount()*(self.interest_in_year/100)/12)\n",
        "      if self.getPrincipleAmount() < self.emi_amount:\n",
        "        print(\"EMI changed P={} I={}\".format(self.getPrincipleAmount() , self.Interest_paid))\n",
        "        self.emi_amount=self.getPrincipleAmount() + self.Interest_paid\n",
        "      temp_list_one_row.append(self.emi_amount)\n",
        "      temp_list_one_row.append(self.Interest_paid)\n",
        "      self.Principle_paid = self.emi_amount - self.Interest_paid\n",
        "      temp_list_one_row.append(self.Principle_paid)\n",
        "      temp_list_one_row.append(self.getPrincipleAmount() - self.Principle_paid)\n",
        "      self.setPrincipleAmount(self.getPrincipleAmount() - self.Principle_paid)\n",
        "\n",
        "      # print(temp_list_one_row)\n",
        "      self.df = self.df.append(pd.Series(temp_list_one_row, index=self.column_names), ignore_index=True)\n",
        "\n",
        "    self.emi_amount = temp_emi \n",
        "    if self.orginal_df.empty:\n",
        "      self.orginal_df = self.df.copy(deep=True)\n",
        "\n",
        "\n",
        "\n",
        "  def adjustWithAdvancePayment(self, payment_date, paid_amount):\n",
        "    temp_list1=[]\n",
        "    self.period_in_years = round((self.df[self.df.MONTH > payment_date.date()].shape[0] -1 )/12, 5)\n",
        "    print(\"Printing year {}\".format(self.period_in_years))\n",
        "    self.setPrincipleAmount(self.df[self.df.MONTH==payment_date.date()].LEFTOVER_PRINCIPLE.item())\n",
        "    self.df.drop(self.df[self.df.MONTH> payment_date.date()].index, inplace=True)\n",
        "    self.starting_date=getMonthwithIndex(1, payment_date)\n",
        "    temp_list1.append(self.starting_date.date())\n",
        "    temp_list1.append(self.getPrincipleAmount())\n",
        "    temp_list1.append(self.emi_amount)\n",
        "    self.Interest_paid=(self.getPrincipleAmount()*(self.interest_in_year/100)/12)\n",
        "    temp_list1.append(self.Interest_paid)\n",
        "    advance_paid = paid_amount - self.Interest_paid;\n",
        "    self.advancePayments.append(advance_paid);\n",
        "    print(\"Printing advance_paid {}\".format(advance_paid))\n",
        "    self.Principle_paid = (self.emi_amount - self.Interest_paid) + advance_paid;\n",
        "    temp_list1.append(self.Principle_paid)\n",
        "    temp_list1.append(self.getPrincipleAmount() - self.Principle_paid)\n",
        "    self.setPrincipleAmount(self.getPrincipleAmount() - self.Principle_paid)\n",
        "    # print(temp_list1)\n",
        "    self.df = self.df.append(pd.Series(temp_list1, index=self.column_names), ignore_index=True)\n",
        "    self.populateDateFrame()\n",
        "\n",
        "\n",
        "  def getTrend(self,deviation=False):\n",
        "    if not self.df.empty and not self.orginal_df.empty and deviation:\n",
        "      deviation=True;\n",
        "    fig, axes = plt.subplots(nrows=1, ncols=2, figsize=(15, 5))\n",
        "    axes[0].plot(self.df.MONTH,self.df.STARTING_AMOUNT,color=\"blue\")\n",
        "    axes[1].plot(self.df.MONTH,self.df.PRINCIPLE_PAID,color=\"red\")\n",
        "    if deviation:\n",
        "      axes[0].plot(self.orginal_df.MONTH,self.orginal_df.STARTING_AMOUNT,color=\"green\")\n",
        "      axes[1].plot(self.orginal_df.MONTH,self.orginal_df.PRINCIPLE_PAID,color=\"green\")\n",
        "\n",
        "    fig.tight_layout()\n",
        "\n",
        "    plt.show()\n",
        "    if deviation:\n",
        "      print(\"You would have paid {} and with advance payment you paid {} \".format(self.orginal_df.EMI_AMOUNT.sum() , self.df.EMI_AMOUNT.sum()))\n",
        "      print(\"Your saving is {} out of which advance principle paid is {}\".format(self.orginal_df.EMI_AMOUNT.sum() - self.df.EMI_AMOUNT.sum(), \n",
        "                                                                       sum(self.advancePayments)))\n",
        "      print(\"You saved {} in interest\".format(self.orginal_df.EMI_AMOUNT.sum() - self.df.EMI_AMOUNT.sum() - sum(self.advancePayments)))\n",
        "\n"
      ],
      "execution_count": 2,
      "outputs": [
        {
          "output_type": "stream",
          "text": [
            "Requirement already satisfied: numpy-financial in /usr/local/lib/python3.6/dist-packages (1.0.0)\n",
            "Requirement already satisfied: numpy>=1.15 in /usr/local/lib/python3.6/dist-packages (from numpy-financial) (1.18.5)\n"
          ],
          "name": "stdout"
        }
      ]
    },
    {
      "cell_type": "code",
      "metadata": {
        "id": "WUEeszrkuC3j",
        "colab": {
          "base_uri": "https://localhost:8080/"
        },
        "outputId": "f93a25d7-0e70-4b7c-9172-fd10df3d2b20"
      },
      "source": [
        "print(\"provide the date of Disbursement\")\n",
        "# year = int(input('Enter a year :'))\n",
        "year=2020\n",
        "# month = int(input('Enter a month :'))\n",
        "month=5\n",
        "# day = int(input('Enter a day :'))\n",
        "day=5\n",
        "date1 = datetime(year, month, day, 00, 00, 00, 00)\n",
        "# print(date1)"
      ],
      "execution_count": 3,
      "outputs": [
        {
          "output_type": "stream",
          "text": [
            "provide the date of Disbursement\n"
          ],
          "name": "stdout"
        }
      ]
    },
    {
      "cell_type": "code",
      "metadata": {
        "id": "Xt1zm-GjuzO-",
        "colab": {
          "base_uri": "https://localhost:8080/"
        },
        "outputId": "f50626a5-b1b8-4387-da09-bc9f88f7637c"
      },
      "source": [
        "print(\"Provide details of Loan\")\n",
        "# amount = int(input('Enter principle amount :'))\n",
        "amount=10000000\n",
        "# rate = float(input('Enter the rate of interest accepted :'))\n",
        "rate=12\n",
        "# duration = int(input('Enter the duration in years :'))\n",
        "duration=30"
      ],
      "execution_count": 4,
      "outputs": [
        {
          "output_type": "stream",
          "text": [
            "Provide details of Loan\n"
          ],
          "name": "stdout"
        }
      ]
    },
    {
      "cell_type": "code",
      "metadata": {
        "id": "qMBaQxpKCIfM"
      },
      "source": [
        "\n",
        "obj1=Loan(amount,rate,duration,date1)\n"
      ],
      "execution_count": 5,
      "outputs": []
    },
    {
      "cell_type": "code",
      "metadata": {
        "id": "0GBmQ6pSCbhA",
        "colab": {
          "base_uri": "https://localhost:8080/"
        },
        "outputId": "f189b601-2254-46d5-f177-ef0002b1d66a"
      },
      "source": [
        "obj1.populateDateFrame()"
      ],
      "execution_count": 6,
      "outputs": [
        {
          "output_type": "stream",
          "text": [
            "called 360\n",
            "EMI changed P=101842.83137877221 I=1018.428313787722\n"
          ],
          "name": "stdout"
        }
      ]
    },
    {
      "cell_type": "code",
      "metadata": {
        "colab": {
          "base_uri": "https://localhost:8080/",
          "height": 415
        },
        "id": "F36_zFHJ0syE",
        "outputId": "159579cb-bf22-4e1d-f89f-c6e0311765f8"
      },
      "source": [
        "obj1.getDataFrame()"
      ],
      "execution_count": 7,
      "outputs": [
        {
          "output_type": "execute_result",
          "data": {
            "text/html": [
              "<div>\n",
              "<style scoped>\n",
              "    .dataframe tbody tr th:only-of-type {\n",
              "        vertical-align: middle;\n",
              "    }\n",
              "\n",
              "    .dataframe tbody tr th {\n",
              "        vertical-align: top;\n",
              "    }\n",
              "\n",
              "    .dataframe thead th {\n",
              "        text-align: right;\n",
              "    }\n",
              "</style>\n",
              "<table border=\"1\" class=\"dataframe\">\n",
              "  <thead>\n",
              "    <tr style=\"text-align: right;\">\n",
              "      <th></th>\n",
              "      <th>MONTH</th>\n",
              "      <th>STARTING_AMOUNT</th>\n",
              "      <th>EMI_AMOUNT</th>\n",
              "      <th>INTEREST_PAID</th>\n",
              "      <th>PRINCIPLE_PAID</th>\n",
              "      <th>LEFTOVER_PRINCIPLE</th>\n",
              "    </tr>\n",
              "  </thead>\n",
              "  <tbody>\n",
              "    <tr>\n",
              "      <th>0</th>\n",
              "      <td>2020-06-01</td>\n",
              "      <td>10000000</td>\n",
              "      <td>102861.25969</td>\n",
              "      <td>100000.00000</td>\n",
              "      <td>2861.25969</td>\n",
              "      <td>9997138.74031</td>\n",
              "    </tr>\n",
              "    <tr>\n",
              "      <th>1</th>\n",
              "      <td>2020-07-01</td>\n",
              "      <td>9997138.74031</td>\n",
              "      <td>102861.25969</td>\n",
              "      <td>99971.38740</td>\n",
              "      <td>2889.87229</td>\n",
              "      <td>9994248.86802</td>\n",
              "    </tr>\n",
              "    <tr>\n",
              "      <th>2</th>\n",
              "      <td>2020-08-01</td>\n",
              "      <td>9994248.86802</td>\n",
              "      <td>102861.25969</td>\n",
              "      <td>99942.48868</td>\n",
              "      <td>2918.77101</td>\n",
              "      <td>9991330.09701</td>\n",
              "    </tr>\n",
              "    <tr>\n",
              "      <th>3</th>\n",
              "      <td>2020-09-01</td>\n",
              "      <td>9991330.09701</td>\n",
              "      <td>102861.25969</td>\n",
              "      <td>99913.30097</td>\n",
              "      <td>2947.95872</td>\n",
              "      <td>9988382.13828</td>\n",
              "    </tr>\n",
              "    <tr>\n",
              "      <th>4</th>\n",
              "      <td>2020-10-01</td>\n",
              "      <td>9988382.13828</td>\n",
              "      <td>102861.25969</td>\n",
              "      <td>99883.82138</td>\n",
              "      <td>2977.43831</td>\n",
              "      <td>9985404.69997</td>\n",
              "    </tr>\n",
              "    <tr>\n",
              "      <th>...</th>\n",
              "      <td>...</td>\n",
              "      <td>...</td>\n",
              "      <td>...</td>\n",
              "      <td>...</td>\n",
              "      <td>...</td>\n",
              "      <td>...</td>\n",
              "    </tr>\n",
              "    <tr>\n",
              "      <th>355</th>\n",
              "      <td>2050-01-01</td>\n",
              "      <td>499230.05111</td>\n",
              "      <td>102861.25969</td>\n",
              "      <td>4992.30051</td>\n",
              "      <td>97868.95918</td>\n",
              "      <td>401361.09193</td>\n",
              "    </tr>\n",
              "    <tr>\n",
              "      <th>356</th>\n",
              "      <td>2050-02-01</td>\n",
              "      <td>401361.09193</td>\n",
              "      <td>102861.25969</td>\n",
              "      <td>4013.61092</td>\n",
              "      <td>98847.64877</td>\n",
              "      <td>302513.44315</td>\n",
              "    </tr>\n",
              "    <tr>\n",
              "      <th>357</th>\n",
              "      <td>2050-03-01</td>\n",
              "      <td>302513.44315</td>\n",
              "      <td>102861.25969</td>\n",
              "      <td>3025.13443</td>\n",
              "      <td>99836.12526</td>\n",
              "      <td>202677.31789</td>\n",
              "    </tr>\n",
              "    <tr>\n",
              "      <th>358</th>\n",
              "      <td>2050-04-01</td>\n",
              "      <td>202677.31789</td>\n",
              "      <td>102861.25969</td>\n",
              "      <td>2026.77318</td>\n",
              "      <td>100834.48651</td>\n",
              "      <td>101842.83138</td>\n",
              "    </tr>\n",
              "    <tr>\n",
              "      <th>359</th>\n",
              "      <td>2050-05-01</td>\n",
              "      <td>101842.83138</td>\n",
              "      <td>102861.25969</td>\n",
              "      <td>1018.42831</td>\n",
              "      <td>101842.83138</td>\n",
              "      <td>0.00000</td>\n",
              "    </tr>\n",
              "  </tbody>\n",
              "</table>\n",
              "<p>360 rows × 6 columns</p>\n",
              "</div>"
            ],
            "text/plain": [
              "          MONTH STARTING_AMOUNT  ...  PRINCIPLE_PAID  LEFTOVER_PRINCIPLE\n",
              "0    2020-06-01        10000000  ...      2861.25969       9997138.74031\n",
              "1    2020-07-01   9997138.74031  ...      2889.87229       9994248.86802\n",
              "2    2020-08-01   9994248.86802  ...      2918.77101       9991330.09701\n",
              "3    2020-09-01   9991330.09701  ...      2947.95872       9988382.13828\n",
              "4    2020-10-01   9988382.13828  ...      2977.43831       9985404.69997\n",
              "..          ...             ...  ...             ...                 ...\n",
              "355  2050-01-01    499230.05111  ...     97868.95918        401361.09193\n",
              "356  2050-02-01    401361.09193  ...     98847.64877        302513.44315\n",
              "357  2050-03-01    302513.44315  ...     99836.12526        202677.31789\n",
              "358  2050-04-01    202677.31789  ...    100834.48651        101842.83138\n",
              "359  2050-05-01    101842.83138  ...    101842.83138             0.00000\n",
              "\n",
              "[360 rows x 6 columns]"
            ]
          },
          "metadata": {
            "tags": []
          },
          "execution_count": 7
        }
      ]
    },
    {
      "cell_type": "code",
      "metadata": {
        "colab": {
          "base_uri": "https://localhost:8080/"
        },
        "id": "SfNQrUGxCm5Z",
        "outputId": "d06aaa94-522d-49e5-95c3-22ad0e54e3fc"
      },
      "source": [
        "obj1.adjustWithAdvancePayment(payment_date=datetime(2049, 1, 1, 00, 00, 00, 00),paid_amount=400000)"
      ],
      "execution_count": 8,
      "outputs": [
        {
          "output_type": "stream",
          "text": [
            "Printing year 1.25\n",
            "Printing advance_paid 384861.009630582\n",
            "called 15\n",
            "EMI changed P=74104.0646621317 I=741.040646621317\n",
            "Break\n"
          ],
          "name": "stdout"
        }
      ]
    },
    {
      "cell_type": "code",
      "metadata": {
        "colab": {
          "base_uri": "https://localhost:8080/"
        },
        "id": "dyonOTVhuPdQ",
        "outputId": "3afccf75-8cc4-4264-892e-f9aa530b9e95"
      },
      "source": [
        "obj1.adjustWithAdvancePayment(payment_date=datetime(2049, 4, 1, 00, 00, 00, 00),paid_amount=400000)"
      ],
      "execution_count": 9,
      "outputs": [
        {
          "output_type": "stream",
          "text": [
            "Printing year 0.66667\n",
            "Printing advance_paid 391445.0492725838\n",
            "called 8\n",
            "EMI changed P=69267.41580268908 I=692.6741580268908\n",
            "Break\n"
          ],
          "name": "stdout"
        }
      ]
    },
    {
      "cell_type": "code",
      "metadata": {
        "id": "zhHxi0DFTeiC"
      },
      "source": [
        "# pd.set_option(\"display.max_rows\", None, \"display.max_columns\", None)\n",
        "# obj1.getDataFrame()"
      ],
      "execution_count": 10,
      "outputs": []
    },
    {
      "cell_type": "code",
      "metadata": {
        "id": "yNGOMN0kWQG7"
      },
      "source": [
        "# a.getDataFrame()[a.getDataFrame()[MONTH==datetime(2049, 1, 1, 00, 00, 00, 00).date()]]\n",
        "# obj1.getDataFrame()[obj1.getDataFrame().MONTH> datetime(2021, 12, 1, 00, 00, 00, 00).date()]"
      ],
      "execution_count": 11,
      "outputs": []
    },
    {
      "cell_type": "code",
      "metadata": {
        "colab": {
          "base_uri": "https://localhost:8080/"
        },
        "id": "VZa9Lgn6yVik",
        "outputId": "0f16f3b2-3eac-4cec-a43b-f9f5fdf4e923"
      },
      "source": [
        "\n",
        "obj2=Loan(amount,rate,duration,date1)\n",
        "\n",
        "obj2.populateDateFrame()\n",
        "\n",
        "# obj2.getDataFrame()\n",
        "\n"
      ],
      "execution_count": 12,
      "outputs": [
        {
          "output_type": "stream",
          "text": [
            "called 360\n",
            "EMI changed P=101842.83137877221 I=1018.428313787722\n"
          ],
          "name": "stdout"
        }
      ]
    },
    {
      "cell_type": "code",
      "metadata": {
        "colab": {
          "base_uri": "https://localhost:8080/"
        },
        "id": "_UJBrRM0e9Ho",
        "outputId": "f66427a7-c1a7-4da0-e9ec-244f709f9bbc"
      },
      "source": [
        "obj2.adjustWithAdvancePayment(payment_date=datetime(2022, 1, 1, 00, 00, 00, 00),paid_amount=400000)\n",
        "\n",
        "obj2.adjustWithAdvancePayment(payment_date=datetime(2022, 4, 1, 00, 00, 00, 00),paid_amount=400000)\n"
      ],
      "execution_count": 13,
      "outputs": [
        {
          "output_type": "stream",
          "text": [
            "Printing year 28.25\n",
            "Printing advance_paid 300630.02088600426\n",
            "called 339\n",
            "EMI changed P=3606.742344931976 I=36.067423449319755\n",
            "Break\n",
            "Printing year 22.91667\n",
            "Printing advance_paid 303802.53702187317\n",
            "called 275\n",
            "EMI changed P=60961.14120421618 I=609.6114120421618\n",
            "Break\n"
          ],
          "name": "stdout"
        }
      ]
    },
    {
      "cell_type": "code",
      "metadata": {
        "id": "3yMTUfAvfG_z"
      },
      "source": [
        "\n",
        "# pd.set_option(\"display.max_rows\", None, \"display.max_columns\", None)\n",
        "# obj2.getDataFrame()\n",
        "\n",
        "# a.getDataFrame()[a.getDataFrame()[MONTH==datetime(2049, 1, 1, 00, 00, 00, 00).date()]]\n",
        "# obj2.getDataFrame()[obj1.getDataFrame().MONTH> datetime(2021, 12, 1, 00, 00, 00, 00).date()]\n",
        "\n"
      ],
      "execution_count": 14,
      "outputs": []
    },
    {
      "cell_type": "code",
      "metadata": {
        "colab": {
          "base_uri": "https://localhost:8080/",
          "height": 421
        },
        "id": "hQMd8iICfSzg",
        "outputId": "0710a2b9-a3d1-4131-801a-f728c4448f7f"
      },
      "source": [
        "obj1.getTrend(deviation=True)"
      ],
      "execution_count": 15,
      "outputs": [
        {
          "output_type": "display_data",
          "data": {
            "image/png": "[encoded data removed]",
            "text/plain": [
              "<Figure size 1080x360 with 2 Axes>"
            ]
          },
          "metadata": {
            "tags": [],
            "needs_background": "light"
          }
        },
        {
          "output_type": "stream",
          "text": [
            "You would have paid 37030053.48931816 and with advance payment you paid 36174262.24204592 \n",
            "Your saving is 855791.2472722456 out of which advance principle paid is 776306.0589031659\n",
            "You saved 79485.18836907973 in interest\n"
          ],
          "name": "stdout"
        }
      ]
    },
    {
      "cell_type": "code",
      "metadata": {
        "colab": {
          "base_uri": "https://localhost:8080/",
          "height": 421
        },
        "id": "aXcx4KA8fZsn",
        "outputId": "fdd0f7b5-0504-41f4-897a-461f0fb2ad4f"
      },
      "source": [
        "obj2.getTrend(deviation=True)"
      ],
      "execution_count": 16,
      "outputs": [
        {
          "output_type": "display_data",
          "data": {
            "image/png": "[encoded data removed]",
            "text/plain": [
              "<Figure size 1080x360 with 2 Axes>"
            ]
          },
          "metadata": {
            "tags": [],
            "needs_background": "light"
          }
        },
        {
          "output_type": "stream",
          "text": [
            "You would have paid 37030053.48931816 and with advance payment you paid 26805498.272679366 \n",
            "Your saving is 10224555.216638796 out of which advance principle paid is 604432.5579078775\n",
            "You saved 9620122.658730919 in interest\n"
          ],
          "name": "stdout"
        }
      ]
    }
  ]
}